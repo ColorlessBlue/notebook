{
 "cells": [
  {
   "cell_type": "code",
   "execution_count": 6,
   "metadata": {},
   "outputs": [
    {
     "name": "stdout",
     "output_type": "stream",
     "text": [
      "azure-cli                         2.67.0 *\n",
      "\n",
      "core                              2.67.0 *\n",
      "telemetry                          1.1.0\n",
      "\n",
      "Dependencies:\n",
      "msal                              1.31.0\n",
      "azure-mgmt-resource               23.1.1\n",
      "\n",
      "Python location '/opt/homebrew/Cellar/azure-cli/2.67.0_1/libexec/bin/python'\n",
      "Extensions directory '/Users/dgmr2/.azure/cliextensions'\n",
      "\n",
      "Python (Darwin) 3.12.8 (main, Dec  3 2024, 18:42:41) [Clang 16.0.0 (clang-1600.0.26.4)]\n",
      "\n",
      "Legal docs and information: aka.ms/AzureCliLegal\n",
      "\n",
      "\n",
      "\u001b[93mYou have 2 update(s) available. Consider updating your CLI installation with 'az upgrade'\u001b[0m\n"
     ]
    }
   ],
   "source": [
    "!az --version"
   ]
  },
  {
   "cell_type": "code",
   "execution_count": 10,
   "metadata": {},
   "outputs": [
    {
     "name": "stdout",
     "output_type": "stream",
     "text": [
      "\u001b[K{/ Finished ..\n",
      "  \"adminUserEnabled\": false,\n",
      "  \"anonymousPullEnabled\": false,\n",
      "  \"creationDate\": \"2025-02-20T14:18:04.960543+00:00\",\n",
      "  \"dataEndpointEnabled\": false,\n",
      "  \"dataEndpointHostNames\": [],\n",
      "  \"encryption\": {\n",
      "    \"keyVaultProperties\": null,\n",
      "    \"status\": \"disabled\"\n",
      "  },\n",
      "  \"id\": \"/subscriptions/f4550262-c232-4d1f-8f2f-70bcd32ebfe1/resourceGroups/rg-azureml/providers/Microsoft.ContainerRegistry/registries/ogoashyacr\",\n",
      "  \"identity\": null,\n",
      "  \"location\": \"westus\",\n",
      "  \"loginServer\": \"ogoashyacr.azurecr.io\",\n",
      "  \"metadataSearch\": \"Disabled\",\n",
      "  \"name\": \"ogoashyacr\",\n",
      "  \"networkRuleBypassOptions\": \"AzureServices\",\n",
      "  \"networkRuleSet\": null,\n",
      "  \"policies\": {\n",
      "    \"azureAdAuthenticationAsArmPolicy\": {\n",
      "      \"status\": \"enabled\"\n",
      "    },\n",
      "    \"exportPolicy\": {\n",
      "      \"status\": \"enabled\"\n",
      "    },\n",
      "    \"quarantinePolicy\": {\n",
      "      \"status\": \"disabled\"\n",
      "    },\n",
      "    \"retentionPolicy\": {\n",
      "      \"days\": 7,\n",
      "      \"lastUpdatedTime\": \"2025-02-20T14:18:12.612181+00:00\",\n",
      "      \"status\": \"disabled\"\n",
      "    },\n",
      "    \"softDeletePolicy\": {\n",
      "      \"lastUpdatedTime\": \"2025-02-20T14:18:12.612227+00:00\",\n",
      "      \"retentionDays\": 7,\n",
      "      \"status\": \"disabled\"\n",
      "    },\n",
      "    \"trustPolicy\": {\n",
      "      \"status\": \"disabled\",\n",
      "      \"type\": \"Notary\"\n",
      "    }\n",
      "  },\n",
      "  \"privateEndpointConnections\": [],\n",
      "  \"provisioningState\": \"Succeeded\",\n",
      "  \"publicNetworkAccess\": \"Enabled\",\n",
      "  \"resourceGroup\": \"rg-azureml\",\n",
      "  \"sku\": {\n",
      "    \"name\": \"Basic\",\n",
      "    \"tier\": \"Basic\"\n",
      "  },\n",
      "  \"status\": null,\n",
      "  \"systemData\": {\n",
      "    \"createdAt\": \"2025-02-20T14:18:04.960543+00:00\",\n",
      "    \"createdBy\": \"August0806@outlook.jp\",\n",
      "    \"createdByType\": \"User\",\n",
      "    \"lastModifiedAt\": \"2025-02-20T14:18:04.960543+00:00\",\n",
      "    \"lastModifiedBy\": \"August0806@outlook.jp\",\n",
      "    \"lastModifiedByType\": \"User\"\n",
      "  },\n",
      "  \"tags\": {},\n",
      "  \"type\": \"Microsoft.ContainerRegistry/registries\",\n",
      "  \"zoneRedundancy\": \"Disabled\"\n",
      "}\n"
     ]
    }
   ],
   "source": [
    "# Create ACR\n",
    "!az acr create --resource-group rg-azureml --name ogoashyacr --sku Basic"
   ]
  },
  {
   "cell_type": "code",
   "execution_count": 12,
   "metadata": {},
   "outputs": [
    {
     "name": "stdout",
     "output_type": "stream",
     "text": [
      "Login Succeeded\n"
     ]
    }
   ],
   "source": [
    "# Login to ACR\n",
    "!az acr login --name ogoashyacr"
   ]
  },
  {
   "cell_type": "code",
   "execution_count": 14,
   "metadata": {},
   "outputs": [
    {
     "name": "stdout",
     "output_type": "stream",
     "text": [
      "Using default tag: latest\n",
      "latest: Pulling from hello-world\n",
      "\n",
      "\u001b[1BDigest: sha256:92c7f9c92844bbbb5d0a101b22f7c2a7949e40f8ea90c8b3bc396879d95e899a\n",
      "Status: Downloaded newer image for mcr.microsoft.com/hello-world:latest\n",
      "mcr.microsoft.com/hello-world:latest\n",
      "\u001b[1m\n",
      "What's next:\u001b[0m\n",
      "    View a summary of image vulnerabilities and recommendations → \u001b[36mdocker scout quickview mcr.microsoft.com/hello-world\u001b[0m\n"
     ]
    }
   ],
   "source": [
    "# pull image from Microsoft Container Registry\n",
    "!docker pull mcr.microsoft.com/hello-world"
   ]
  },
  {
   "cell_type": "code",
   "execution_count": 15,
   "metadata": {},
   "outputs": [],
   "source": [
    "# tag the image\n",
    "!docker tag mcr.microsoft.com/hello-world ogoashyacr.azurecr.io/hello-world"
   ]
  },
  {
   "cell_type": "code",
   "execution_count": 17,
   "metadata": {},
   "outputs": [
    {
     "name": "stdout",
     "output_type": "stream",
     "text": [
      "REPOSITORY                                                TAG                IMAGE ID       CREATED         SIZE\n",
      "my-python-app                                             latest             6bb3e5ef7eb0   3 months ago    1.09GB\n",
      "python                                                    latest             d80d37277702   4 months ago    1.02GB\n",
      "pytorch                                                   latest             80016a3b0295   4 months ago    10.2GB\n",
      "ubunts22.04.python                                        latest             ca0a7a01a423   4 months ago    249MB\n",
      "ubuntu22.04.vim                                           latest             730236acc253   4 months ago    179MB\n",
      "ubuntu                                                    22.04              7f965f3f8aae   6 months ago    69.2MB\n",
      "741448927777.dkr.ecr.ap-northeast-1.amazonaws.com/test1   ubuntu.20.04       2788af2ba581   6 months ago    65.7MB\n",
      "ubuntu                                                    20.04              2788af2ba581   6 months ago    65.7MB\n",
      "docker/welcome-to-docker                                  latest             648f93a1ba7d   15 months ago   19MB\n",
      "python                                                    3.6.8-alpine3.10   409387e3d11c   5 years ago     87.7MB\n",
      "mcr.microsoft.com/hello-world                             latest             fce289e99eb9   6 years ago     1.84kB\n",
      "ogoashyacr.azurecr.io/hello-world                         latest             fce289e99eb9   6 years ago     1.84kB\n"
     ]
    }
   ],
   "source": [
    "!docker images"
   ]
  },
  {
   "cell_type": "code",
   "execution_count": 18,
   "metadata": {},
   "outputs": [
    {
     "name": "stdout",
     "output_type": "stream",
     "text": [
      "The push refers to repository [ogoashyacr.azurecr.io/hello-world]\n",
      "\n",
      "\u001b[1B15c8625b: Pushed   3.584kB/1.84kB\u001b[1A\u001b[2Klatest: digest: sha256:92c7f9c92844bbbb5d0a101b22f7c2a7949e40f8ea90c8b3bc396879d95e899a size: 524\n"
     ]
    }
   ],
   "source": [
    "# push the image to ACR\n",
    "!docker push ogoashyacr.azurecr.io/hello-world:latest"
   ]
  },
  {
   "cell_type": "code",
   "execution_count": 19,
   "metadata": {},
   "outputs": [
    {
     "name": "stdout",
     "output_type": "stream",
     "text": [
      "Untagged: ogoashyacr.azurecr.io/hello-world:latest\n",
      "Untagged: ogoashyacr.azurecr.io/hello-world@sha256:92c7f9c92844bbbb5d0a101b22f7c2a7949e40f8ea90c8b3bc396879d95e899a\n"
     ]
    }
   ],
   "source": [
    "# delete the image from local\n",
    "!docker rmi ogoashyacr.azurecr.io/hello-world:latest"
   ]
  },
  {
   "cell_type": "code",
   "execution_count": 20,
   "metadata": {},
   "outputs": [
    {
     "name": "stdout",
     "output_type": "stream",
     "text": [
      "Result\n",
      "-----------\n",
      "hello-world\n"
     ]
    }
   ],
   "source": [
    "# list the images in ACR\n",
    "!az acr repository list --name ogoashyacr --output table"
   ]
  },
  {
   "cell_type": "code",
   "execution_count": 21,
   "metadata": {},
   "outputs": [
    {
     "name": "stdout",
     "output_type": "stream",
     "text": [
      "Result\n",
      "--------\n",
      "latest\n"
     ]
    }
   ],
   "source": [
    "# list tags of the image\n",
    "!az acr repository show-tags --name ogoashyacr --repository hello-world --output table"
   ]
  },
  {
   "cell_type": "code",
   "execution_count": 37,
   "metadata": {},
   "outputs": [
    {
     "name": "stdout",
     "output_type": "stream",
     "text": [
      "Unable to find image 'ogoashyacr.azurecr.io/hello-world:latest' locally\n",
      "latest: Pulling from hello-world\n",
      "\n",
      "\u001b[1BDigest: sha256:92c7f9c92844bbbb5d0a101b22f7c2a7949e40f8ea90c8b3bc396879d95e899a\n",
      "Status: Downloaded newer image for ogoashyacr.azurecr.io/hello-world:latest\n",
      "WARNING: The requested image's platform (linux/amd64) does not match the detected host platform (linux/arm64/v8) and no specific platform was requested\n",
      "\n",
      "Hello from Docker!\n",
      "This message shows that your installation appears to be working correctly.\n",
      "\n",
      "To generate this message, Docker took the following steps:\n",
      " 1. The Docker client contacted the Docker daemon.\n",
      " 2. The Docker daemon pulled the \"hello-world\" image from the Docker Hub.\n",
      "    (amd64)\n",
      " 3. The Docker daemon created a new container from that image which runs the\n",
      "    executable that produces the output you are currently reading.\n",
      " 4. The Docker daemon streamed that output to the Docker client, which sent it\n",
      "    to your terminal.\n",
      "\n",
      "To try something more ambitious, you can run an Ubuntu container with:\n",
      " $ docker run -it ubuntu bash\n",
      "\n",
      "Share images, automate workflows, and more with a free Docker ID:\n",
      " https://hub.docker.com/\n",
      "\n",
      "For more examples and ideas, visit:\n",
      " https://docs.docker.com/get-started/\n",
      "\n"
     ]
    }
   ],
   "source": [
    "# run the image from ACR\n",
    "# docker runコマンドはローカルにコンテナとイメージが作られる\n",
    "!docker run ogoashyacr.azurecr.io/hello-world"
   ]
  },
  {
   "cell_type": "code",
   "execution_count": 47,
   "metadata": {},
   "outputs": [
    {
     "name": "stdout",
     "output_type": "stream",
     "text": [
      "\u001b[K\u001b[93mQueued a run with ID: cf1\u001b[0m\n",
      "\u001b[93mWaiting for an agent...\u001b[0m\n",
      "2025/02/20 14:39:43 Alias support enabled for version >= 1.1.0, please see https://aka.ms/acr/tasks/task-aliases for more information.\n",
      "2025/02/20 14:39:43 Creating Docker network: acb_default_network, driver: 'bridge'\n",
      "2025/02/20 14:39:43 Successfully set up Docker network: acb_default_network\n",
      "2025/02/20 14:39:43 Setting up Docker configuration...\n",
      "2025/02/20 14:39:43 Successfully set up Docker configuration\n",
      "2025/02/20 14:39:43 Logging in to registry: ogoashyacr.azurecr.io\n",
      "2025/02/20 14:39:44 Successfully logged into ogoashyacr.azurecr.io\n",
      "2025/02/20 14:39:44 Executing step ID: acb_step_0. Timeout(sec): 600, Working directory: '', Network: 'acb_default_network'\n",
      "2025/02/20 14:39:44 Launching container with name: acb_step_0\n",
      "Unable to find image 'ogoashyacr.azurecr.io/hello-world:latest' locally\n",
      "latest: Pulling from hello-world\n",
      "1b930d010525: Pulling fs layer\n",
      "1b930d010525: Verifying Checksum\n",
      "1b930d010525: Download complete\n",
      "1b930d010525: Pull complete\n",
      "Digest: sha256:92c7f9c92844bbbb5d0a101b22f7c2a7949e40f8ea90c8b3bc396879d95e899a\n",
      "Status: Downloaded newer image for ogoashyacr.azurecr.io/hello-world:latest\n",
      "\n",
      "Hello from Docker!\n",
      "This message shows that your installation appears to be working correctly.\n",
      "\n",
      "To generate this message, Docker took the following steps:\n",
      " 1. The Docker client contacted the Docker daemon.\n",
      " 2. The Docker daemon pulled the \"hello-world\" image from the Docker Hub.\n",
      "    (amd64)\n",
      " 3. The Docker daemon created a new container from that image which runs the\n",
      "    executable that produces the output you are currently reading.\n",
      " 4. The Docker daemon streamed that output to the Docker client, which sent it\n",
      "    to your terminal.\n",
      "\n",
      "To try something more ambitious, you can run an Ubuntu container with:\n",
      " $ docker run -it ubuntu bash\n",
      "\n",
      "Share images, automate workflows, and more with a free Docker ID:\n",
      " https://hub.docker.com/\n",
      "\n",
      "For more examples and ideas, visit:\n",
      " https://docs.docker.com/get-started/\n",
      "\n",
      "2025/02/20 14:39:49 Successfully executed container: acb_step_0\n",
      "2025/02/20 14:39:49 Step ID: acb_step_0 marked as successful (elapsed time in seconds: 4.936589)\n",
      "\n",
      "Run ID: cf1 was successful after 7s\n",
      "\u001b[0m"
     ]
    }
   ],
   "source": [
    "# az acr runコマンドではローカルにコンテナとイメージが作られない\n",
    "!az acr run --registry ogoashyacr \\\n",
    "    --cmd '$Registry/hello-world' /dev/null"
   ]
  },
  {
   "cell_type": "code",
   "execution_count": 48,
   "metadata": {},
   "outputs": [
    {
     "name": "stdout",
     "output_type": "stream",
     "text": [
      "REPOSITORY                                                TAG                IMAGE ID       CREATED         SIZE\n",
      "my-python-app                                             latest             6bb3e5ef7eb0   3 months ago    1.09GB\n",
      "python                                                    latest             d80d37277702   4 months ago    1.02GB\n",
      "pytorch                                                   latest             80016a3b0295   4 months ago    10.2GB\n",
      "ubunts22.04.python                                        latest             ca0a7a01a423   4 months ago    249MB\n",
      "ubuntu22.04.vim                                           latest             730236acc253   4 months ago    179MB\n",
      "ubuntu                                                    22.04              7f965f3f8aae   6 months ago    69.2MB\n",
      "741448927777.dkr.ecr.ap-northeast-1.amazonaws.com/test1   ubuntu.20.04       2788af2ba581   6 months ago    65.7MB\n",
      "ubuntu                                                    20.04              2788af2ba581   6 months ago    65.7MB\n",
      "docker/welcome-to-docker                                  latest             648f93a1ba7d   15 months ago   19MB\n",
      "python                                                    3.6.8-alpine3.10   409387e3d11c   5 years ago     87.7MB\n"
     ]
    }
   ],
   "source": [
    "!docker images"
   ]
  },
  {
   "cell_type": "code",
   "execution_count": 41,
   "metadata": {},
   "outputs": [
    {
     "name": "stdout",
     "output_type": "stream",
     "text": [
      "CONTAINER ID   IMAGE                               COMMAND                  CREATED          STATUS                      PORTS     NAMES\n",
      "561d3df211ee   ogoashyacr.azurecr.io/hello-world   \"/hello\"                 36 seconds ago   Exited (0) 35 seconds ago             sad_grothendieck\n",
      "7b253c451c86   my-python-app                       \"python ./your-daemo…\"   3 months ago     Exited (0) 3 months ago               charming_rubin\n",
      "195f0eb03895   ubuntu:22.04                        \"/bin/bash\"              4 months ago     Exited (0) 4 months ago               quizzical_lovelace\n"
     ]
    }
   ],
   "source": [
    "!docker ps -a"
   ]
  },
  {
   "cell_type": "code",
   "execution_count": 42,
   "metadata": {},
   "outputs": [
    {
     "name": "stdout",
     "output_type": "stream",
     "text": [
      "561d3df211ee\n"
     ]
    }
   ],
   "source": [
    "!docker rm 561d3df211ee"
   ]
  },
  {
   "cell_type": "code",
   "execution_count": 43,
   "metadata": {},
   "outputs": [
    {
     "name": "stdout",
     "output_type": "stream",
     "text": [
      "REPOSITORY                                                TAG                IMAGE ID       CREATED         SIZE\n",
      "my-python-app                                             latest             6bb3e5ef7eb0   3 months ago    1.09GB\n",
      "python                                                    latest             d80d37277702   4 months ago    1.02GB\n",
      "pytorch                                                   latest             80016a3b0295   4 months ago    10.2GB\n",
      "ubunts22.04.python                                        latest             ca0a7a01a423   4 months ago    249MB\n",
      "ubuntu22.04.vim                                           latest             730236acc253   4 months ago    179MB\n",
      "ubuntu                                                    22.04              7f965f3f8aae   6 months ago    69.2MB\n",
      "741448927777.dkr.ecr.ap-northeast-1.amazonaws.com/test1   ubuntu.20.04       2788af2ba581   6 months ago    65.7MB\n",
      "ubuntu                                                    20.04              2788af2ba581   6 months ago    65.7MB\n",
      "docker/welcome-to-docker                                  latest             648f93a1ba7d   15 months ago   19MB\n",
      "python                                                    3.6.8-alpine3.10   409387e3d11c   5 years ago     87.7MB\n",
      "ogoashyacr.azurecr.io/hello-world                         latest             fce289e99eb9   6 years ago     1.84kB\n"
     ]
    }
   ],
   "source": [
    "!docker images"
   ]
  },
  {
   "cell_type": "code",
   "execution_count": 44,
   "metadata": {},
   "outputs": [
    {
     "name": "stdout",
     "output_type": "stream",
     "text": [
      "Untagged: ogoashyacr.azurecr.io/hello-world:latest\n",
      "Untagged: ogoashyacr.azurecr.io/hello-world@sha256:92c7f9c92844bbbb5d0a101b22f7c2a7949e40f8ea90c8b3bc396879d95e899a\n",
      "Deleted: sha256:fce289e99eb9bca977dae136fbe2a82b6b7d4c372474c9235adc1741675f587e\n",
      "Deleted: sha256:af0b15c8625bb1938f1d7b17081031f649fd14e6b233688eea3c5483994a66a3\n"
     ]
    }
   ],
   "source": [
    "!docker rmi ogoashyacr.azurecr.io/hello-world:latest"
   ]
  },
  {
   "cell_type": "code",
   "execution_count": 45,
   "metadata": {},
   "outputs": [
    {
     "name": "stdout",
     "output_type": "stream",
     "text": [
      "REPOSITORY                                                TAG                IMAGE ID       CREATED         SIZE\n",
      "my-python-app                                             latest             6bb3e5ef7eb0   3 months ago    1.09GB\n",
      "python                                                    latest             d80d37277702   4 months ago    1.02GB\n",
      "pytorch                                                   latest             80016a3b0295   4 months ago    10.2GB\n",
      "ubunts22.04.python                                        latest             ca0a7a01a423   4 months ago    249MB\n",
      "ubuntu22.04.vim                                           latest             730236acc253   4 months ago    179MB\n",
      "ubuntu                                                    22.04              7f965f3f8aae   6 months ago    69.2MB\n",
      "741448927777.dkr.ecr.ap-northeast-1.amazonaws.com/test1   ubuntu.20.04       2788af2ba581   6 months ago    65.7MB\n",
      "ubuntu                                                    20.04              2788af2ba581   6 months ago    65.7MB\n",
      "docker/welcome-to-docker                                  latest             648f93a1ba7d   15 months ago   19MB\n",
      "python                                                    3.6.8-alpine3.10   409387e3d11c   5 years ago     87.7MB\n"
     ]
    }
   ],
   "source": [
    "!docker images"
   ]
  },
  {
   "cell_type": "markdown",
   "metadata": {},
   "source": [
    "### ACI"
   ]
  },
  {
   "cell_type": "code",
   "execution_count": 51,
   "metadata": {},
   "outputs": [
    {
     "name": "stdout",
     "output_type": "stream",
     "text": [
      "\u001b[K - Finished ..{\n",
      "  \"confidentialComputeProperties\": null,\n",
      "  \"containerGroupProfile\": null,\n",
      "  \"containers\": [\n",
      "    {\n",
      "      \"command\": null,\n",
      "      \"configMap\": {\n",
      "        \"keyValuePairs\": {}\n",
      "      },\n",
      "      \"environmentVariables\": [],\n",
      "      \"image\": \"mcr.microsoft.com/azuredocs/aci-helloworld\",\n",
      "      \"instanceView\": {\n",
      "        \"currentState\": {\n",
      "          \"detailStatus\": \"\",\n",
      "          \"exitCode\": null,\n",
      "          \"finishTime\": null,\n",
      "          \"startTime\": \"2025-02-20T14:42:56.281000+00:00\",\n",
      "          \"state\": \"Running\"\n",
      "        },\n",
      "        \"events\": [\n",
      "          {\n",
      "            \"count\": 1,\n",
      "            \"firstTimestamp\": \"2025-02-20T14:42:44+00:00\",\n",
      "            \"lastTimestamp\": \"2025-02-20T14:42:44+00:00\",\n",
      "            \"message\": \"pulling image \\\"mcr.microsoft.com/azuredocs/aci-helloworld@sha256:b9cec4d6b50c6bf25e3f7f93bdc1628e5dca972cf132d38ed8f5bc955bb179c3\\\"\",\n",
      "            \"name\": \"Pulling\",\n",
      "            \"type\": \"Normal\"\n",
      "          },\n",
      "          {\n",
      "            \"count\": 1,\n",
      "            \"firstTimestamp\": \"2025-02-20T14:42:47+00:00\",\n",
      "            \"lastTimestamp\": \"2025-02-20T14:42:47+00:00\",\n",
      "            \"message\": \"Successfully pulled image \\\"mcr.microsoft.com/azuredocs/aci-helloworld@sha256:b9cec4d6b50c6bf25e3f7f93bdc1628e5dca972cf132d38ed8f5bc955bb179c3\\\"\",\n",
      "            \"name\": \"Pulled\",\n",
      "            \"type\": \"Normal\"\n",
      "          },\n",
      "          {\n",
      "            \"count\": 1,\n",
      "            \"firstTimestamp\": \"2025-02-20T14:42:56+00:00\",\n",
      "            \"lastTimestamp\": \"2025-02-20T14:42:56+00:00\",\n",
      "            \"message\": \"Started container\",\n",
      "            \"name\": \"Started\",\n",
      "            \"type\": \"Normal\"\n",
      "          }\n",
      "        ],\n",
      "        \"previousState\": null,\n",
      "        \"restartCount\": 0\n",
      "      },\n",
      "      \"livenessProbe\": null,\n",
      "      \"name\": \"mycontainer\",\n",
      "      \"ports\": [\n",
      "        {\n",
      "          \"port\": 80,\n",
      "          \"protocol\": \"TCP\"\n",
      "        }\n",
      "      ],\n",
      "      \"readinessProbe\": null,\n",
      "      \"resources\": {\n",
      "        \"limits\": null,\n",
      "        \"requests\": {\n",
      "          \"cpu\": 1.0,\n",
      "          \"gpu\": null,\n",
      "          \"memoryInGb\": 1.5\n",
      "        }\n",
      "      },\n",
      "      \"securityContext\": null,\n",
      "      \"volumeMounts\": null\n",
      "    }\n",
      "  ],\n",
      "  \"diagnostics\": null,\n",
      "  \"dnsConfig\": null,\n",
      "  \"encryptionProperties\": null,\n",
      "  \"extensions\": null,\n",
      "  \"id\": \"/subscriptions/f4550262-c232-4d1f-8f2f-70bcd32ebfe1/resourceGroups/rg-azureml/providers/Microsoft.ContainerInstance/containerGroups/mycontainer\",\n",
      "  \"identity\": null,\n",
      "  \"imageRegistryCredentials\": null,\n",
      "  \"initContainers\": [],\n",
      "  \"instanceView\": {\n",
      "    \"events\": [],\n",
      "    \"state\": \"Running\"\n",
      "  },\n",
      "  \"ipAddress\": {\n",
      "    \"autoGeneratedDomainNameLabelScope\": \"Unsecure\",\n",
      "    \"dnsNameLabel\": \"aci-ogo-demo\",\n",
      "    \"fqdn\": \"aci-ogo-demo.westus.azurecontainer.io\",\n",
      "    \"ip\": \"13.83.4.132\",\n",
      "    \"ports\": [\n",
      "      {\n",
      "        \"port\": 80,\n",
      "        \"protocol\": \"TCP\"\n",
      "      }\n",
      "    ],\n",
      "    \"type\": \"Public\"\n",
      "  },\n",
      "  \"isCreatedFromStandbyPool\": false,\n",
      "  \"location\": \"westus\",\n",
      "  \"name\": \"mycontainer\",\n",
      "  \"osType\": \"Linux\",\n",
      "  \"priority\": null,\n",
      "  \"provisioningState\": \"Succeeded\",\n",
      "  \"resourceGroup\": \"rg-azureml\",\n",
      "  \"restartPolicy\": null,\n",
      "  \"sku\": \"Standard\",\n",
      "  \"standbyPoolProfile\": null,\n",
      "  \"subnetIds\": null,\n",
      "  \"tags\": {},\n",
      "  \"type\": \"Microsoft.ContainerInstance/containerGroups\",\n",
      "  \"volumes\": null,\n",
      "  \"zones\": null\n",
      "}\n"
     ]
    }
   ],
   "source": [
    "# Create a container instance\n",
    "!az container create --resource-group rg-azureml \\\n",
    "    --name mycontainer \\\n",
    "    --image mcr.microsoft.com/azuredocs/aci-helloworld \\\n",
    "    --dns-name-label aci-ogo-demo \\\n",
    "    --ports 80 \\\n",
    "    --os-type Linux \\\n",
    "    --cpu 1 \\\n",
    "    --memory 1.5"
   ]
  },
  {
   "cell_type": "code",
   "execution_count": 52,
   "metadata": {},
   "outputs": [
    {
     "name": "stdout",
     "output_type": "stream",
     "text": [
      "FQDN                                   ProvisioningState\n",
      "-------------------------------------  -------------------\n",
      "aci-ogo-demo.westus.azurecontainer.io  Succeeded\n"
     ]
    }
   ],
   "source": [
    "# Get the IP address of the container\n",
    "!az container show --resource-group rg-azureml --name mycontainer --query \"{FQDN:ipAddress.fqdn,ProvisioningState:provisioningState}\" --output table"
   ]
  },
  {
   "cell_type": "code",
   "execution_count": 54,
   "metadata": {},
   "outputs": [
    {
     "name": "stdout",
     "output_type": "stream",
     "text": [
      "listening on port 80\n",
      "\n"
     ]
    }
   ],
   "source": [
    "# Logs of the container\n",
    "!az container logs --resource-group rg-azureml --name mycontainer"
   ]
  },
  {
   "cell_type": "code",
   "execution_count": 57,
   "metadata": {},
   "outputs": [
    {
     "name": "stdout",
     "output_type": "stream",
     "text": [
      "\u001b[K{- Starting ..\n",
      "  \"confidentialComputeProperties\": null,\n",
      "  \"containerGroupProfile\": null,\n",
      "  \"containers\": [\n",
      "    {\n",
      "      \"command\": null,\n",
      "      \"configMap\": {\n",
      "        \"keyValuePairs\": {}\n",
      "      },\n",
      "      \"environmentVariables\": [],\n",
      "      \"image\": \"mcr.microsoft.com/azuredocs/aci-helloworld\",\n",
      "      \"instanceView\": {\n",
      "        \"currentState\": {\n",
      "          \"detailStatus\": \"\",\n",
      "          \"exitCode\": null,\n",
      "          \"finishTime\": null,\n",
      "          \"startTime\": \"2025-02-20T14:42:56.281000+00:00\",\n",
      "          \"state\": \"Running\"\n",
      "        },\n",
      "        \"events\": [\n",
      "          {\n",
      "            \"count\": 1,\n",
      "            \"firstTimestamp\": \"2025-02-20T14:42:44+00:00\",\n",
      "            \"lastTimestamp\": \"2025-02-20T14:42:44+00:00\",\n",
      "            \"message\": \"pulling image \\\"mcr.microsoft.com/azuredocs/aci-helloworld@sha256:b9cec4d6b50c6bf25e3f7f93bdc1628e5dca972cf132d38ed8f5bc955bb179c3\\\"\",\n",
      "            \"name\": \"Pulling\",\n",
      "            \"type\": \"Normal\"\n",
      "          },\n",
      "          {\n",
      "            \"count\": 1,\n",
      "            \"firstTimestamp\": \"2025-02-20T14:42:47+00:00\",\n",
      "            \"lastTimestamp\": \"2025-02-20T14:42:47+00:00\",\n",
      "            \"message\": \"Successfully pulled image \\\"mcr.microsoft.com/azuredocs/aci-helloworld@sha256:b9cec4d6b50c6bf25e3f7f93bdc1628e5dca972cf132d38ed8f5bc955bb179c3\\\"\",\n",
      "            \"name\": \"Pulled\",\n",
      "            \"type\": \"Normal\"\n",
      "          },\n",
      "          {\n",
      "            \"count\": 1,\n",
      "            \"firstTimestamp\": \"2025-02-20T14:42:56+00:00\",\n",
      "            \"lastTimestamp\": \"2025-02-20T14:42:56+00:00\",\n",
      "            \"message\": \"Started container\",\n",
      "            \"name\": \"Started\",\n",
      "            \"type\": \"Normal\"\n",
      "          }\n",
      "        ],\n",
      "        \"previousState\": null,\n",
      "        \"restartCount\": 0\n",
      "      },\n",
      "      \"livenessProbe\": null,\n",
      "      \"name\": \"mycontainer\",\n",
      "      \"ports\": [\n",
      "        {\n",
      "          \"port\": 80,\n",
      "          \"protocol\": \"TCP\"\n",
      "        }\n",
      "      ],\n",
      "      \"readinessProbe\": null,\n",
      "      \"resources\": {\n",
      "        \"limits\": null,\n",
      "        \"requests\": {\n",
      "          \"cpu\": 1.0,\n",
      "          \"gpu\": null,\n",
      "          \"memoryInGb\": 1.5\n",
      "        }\n",
      "      },\n",
      "      \"securityContext\": null,\n",
      "      \"volumeMounts\": null\n",
      "    }\n",
      "  ],\n",
      "  \"diagnostics\": null,\n",
      "  \"dnsConfig\": null,\n",
      "  \"encryptionProperties\": null,\n",
      "  \"extensions\": null,\n",
      "  \"id\": \"/subscriptions/f4550262-c232-4d1f-8f2f-70bcd32ebfe1/resourceGroups/rg-azureml/providers/Microsoft.ContainerInstance/containerGroups/mycontainer\",\n",
      "  \"identity\": null,\n",
      "  \"imageRegistryCredentials\": null,\n",
      "  \"initContainers\": [],\n",
      "  \"instanceView\": {\n",
      "    \"events\": [],\n",
      "    \"state\": \"Running\"\n",
      "  },\n",
      "  \"ipAddress\": {\n",
      "    \"autoGeneratedDomainNameLabelScope\": \"Unsecure\",\n",
      "    \"dnsNameLabel\": \"aci-ogo-demo\",\n",
      "    \"fqdn\": \"aci-ogo-demo.westus.azurecontainer.io\",\n",
      "    \"ip\": \"13.83.4.132\",\n",
      "    \"ports\": [\n",
      "      {\n",
      "        \"port\": 80,\n",
      "        \"protocol\": \"TCP\"\n",
      "      }\n",
      "    ],\n",
      "    \"type\": \"Public\"\n",
      "  },\n",
      "  \"isCreatedFromStandbyPool\": false,\n",
      "  \"location\": \"westus\",\n",
      "  \"name\": \"mycontainer\",\n",
      "  \"osType\": \"Linux\",\n",
      "  \"priority\": null,\n",
      "  \"provisioningState\": \"Succeeded\",\n",
      "  \"resourceGroup\": \"rg-azureml\",\n",
      "  \"restartPolicy\": null,\n",
      "  \"sku\": \"Standard\",\n",
      "  \"standbyPoolProfile\": null,\n",
      "  \"subnetIds\": null,\n",
      "  \"tags\": {},\n",
      "  \"type\": \"Microsoft.ContainerInstance/containerGroups\",\n",
      "  \"volumes\": null,\n",
      "  \"zones\": null\n",
      "}\n"
     ]
    }
   ],
   "source": [
    "# Delete the container\n",
    "!az container delete --resource-group rg-azureml --name mycontainer --yes"
   ]
  },
  {
   "cell_type": "code",
   "execution_count": 58,
   "metadata": {},
   "outputs": [
    {
     "name": "stdout",
     "output_type": "stream",
     "text": [
      "\n"
     ]
    }
   ],
   "source": [
    "!az container list --resource-group rg-azureml --output table"
   ]
  },
  {
   "cell_type": "code",
   "execution_count": null,
   "metadata": {},
   "outputs": [],
   "source": []
  }
 ],
 "metadata": {
  "kernelspec": {
   "display_name": "3.10.5",
   "language": "python",
   "name": "python3"
  },
  "language_info": {
   "codemirror_mode": {
    "name": "ipython",
    "version": 3
   },
   "file_extension": ".py",
   "mimetype": "text/x-python",
   "name": "python",
   "nbconvert_exporter": "python",
   "pygments_lexer": "ipython3",
   "version": "3.10.5"
  }
 },
 "nbformat": 4,
 "nbformat_minor": 2
}
