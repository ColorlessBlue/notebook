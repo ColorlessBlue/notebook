{
 "cells": [
  {
   "cell_type": "code",
   "execution_count": 3,
   "metadata": {},
   "outputs": [
    {
     "name": "stderr",
     "output_type": "stream",
     "text": [
      "Warning: Falling back to use azure cli login credentials.\n",
      "If you run your code in unattended mode, i.e., where you can't give a user input, then we recommend to use ServicePrincipalAuthentication or MsiAuthentication.\n",
      "Please refer to aka.ms/aml-notebook-auth for different authentication mechanisms in azureml-sdk.\n"
     ]
    },
    {
     "name": "stdout",
     "output_type": "stream",
     "text": [
      "prepare_image\n",
      "test-experiment\n",
      "ws-azureml-atnan\n",
      "randomforest-iris-1,'e300597d-23d0-4cac-8426-b73b62c576d8'\n",
      "randomforest-iris-2,'6db00887-f286-44d0-bad6-0dae4cc58f32'\n",
      "randomforest-iris-1,'e51d224a-8421-4652-b7e6-f00114d72fe2'\n",
      "randomforest-iris-2,'520b10ee-db1e-4182-aec7-466643df416c'\n",
      "randomforest-iris-1,'f50bc30a-981f-4ff0-bd7b-a1383bcc62ff'\n"
     ]
    }
   ],
   "source": [
    "import azureml.core\n",
    "from azureml.core import Workspace\n",
    "from azureml.pipeline.core import Pipeline, PublishedPipeline\n",
    "from azureml.core.experiment import Experiment\n",
    "\n",
    "ws = Workspace.from_config()\n",
    "\n",
    "experiments = Experiment.list(ws)\n",
    "for experiment in experiments:\n",
    "    print(experiment.name)\n",
    "\n",
    "published_pipelines = PublishedPipeline.list(ws)\n",
    "for published_pipeline in  published_pipelines:\n",
    "    print(f\"{published_pipeline.name},'{published_pipeline.id}'\")\n",
    "\n",
    "experiment_name = \"MyExperiment\" \n",
    "pipeline_id = \"aaaaaaaaa-bbbb-cccc-dddd-eeeeeeeeeeee\""
   ]
  },
  {
   "cell_type": "code",
   "execution_count": 6,
   "metadata": {},
   "outputs": [
    {
     "data": {
      "text/plain": [
       "[Pipeline(Name: randomforest-iris-1,\n",
       " Id: e300597d-23d0-4cac-8426-b73b62c576d8,\n",
       " Status: Active,\n",
       " Endpoint: https://westus.api.azureml.ms/pipelines/v1.0/subscriptions/f4550262-c232-4d1f-8f2f-70bcd32ebfe1/resourceGroups/rg-azureml/providers/Microsoft.MachineLearningServices/workspaces/ws-azureml/PipelineRuns/PipelineSubmit/e300597d-23d0-4cac-8426-b73b62c576d8),\n",
       " Pipeline(Name: randomforest-iris-2,\n",
       " Id: 6db00887-f286-44d0-bad6-0dae4cc58f32,\n",
       " Status: Active,\n",
       " Endpoint: https://westus.api.azureml.ms/pipelines/v1.0/subscriptions/f4550262-c232-4d1f-8f2f-70bcd32ebfe1/resourceGroups/rg-azureml/providers/Microsoft.MachineLearningServices/workspaces/ws-azureml/PipelineRuns/PipelineSubmit/6db00887-f286-44d0-bad6-0dae4cc58f32),\n",
       " Pipeline(Name: randomforest-iris-1,\n",
       " Id: e51d224a-8421-4652-b7e6-f00114d72fe2,\n",
       " Status: Active,\n",
       " Endpoint: https://westus.api.azureml.ms/pipelines/v1.0/subscriptions/f4550262-c232-4d1f-8f2f-70bcd32ebfe1/resourceGroups/rg-azureml/providers/Microsoft.MachineLearningServices/workspaces/ws-azureml/PipelineRuns/PipelineSubmit/e51d224a-8421-4652-b7e6-f00114d72fe2),\n",
       " Pipeline(Name: randomforest-iris-2,\n",
       " Id: 520b10ee-db1e-4182-aec7-466643df416c,\n",
       " Status: Active,\n",
       " Endpoint: https://westus.api.azureml.ms/pipelines/v1.0/subscriptions/f4550262-c232-4d1f-8f2f-70bcd32ebfe1/resourceGroups/rg-azureml/providers/Microsoft.MachineLearningServices/workspaces/ws-azureml/PipelineRuns/PipelineSubmit/520b10ee-db1e-4182-aec7-466643df416c),\n",
       " Pipeline(Name: randomforest-iris-1,\n",
       " Id: f50bc30a-981f-4ff0-bd7b-a1383bcc62ff,\n",
       " Status: Active,\n",
       " Endpoint: https://westus.api.azureml.ms/pipelines/v1.0/subscriptions/f4550262-c232-4d1f-8f2f-70bcd32ebfe1/resourceGroups/rg-azureml/providers/Microsoft.MachineLearningServices/workspaces/ws-azureml/PipelineRuns/PipelineSubmit/f50bc30a-981f-4ff0-bd7b-a1383bcc62ff)]"
      ]
     },
     "execution_count": 6,
     "metadata": {},
     "output_type": "execute_result"
    }
   ],
   "source": [
    "published_pipelines"
   ]
  },
  {
   "cell_type": "code",
   "execution_count": 7,
   "metadata": {},
   "outputs": [
    {
     "data": {
      "text/plain": [
       "'https://westus.api.azureml.ms/pipelines/v1.0/subscriptions/f4550262-c232-4d1f-8f2f-70bcd32ebfe1/resourceGroups/rg-azureml/providers/Microsoft.MachineLearningServices/workspaces/ws-azureml/PipelineRuns/PipelineSubmit/e300597d-23d0-4cac-8426-b73b62c576d8'"
      ]
     },
     "execution_count": 7,
     "metadata": {},
     "output_type": "execute_result"
    }
   ],
   "source": [
    "# You can find the pipeline ID in Azure Machine Learning studio\n",
    "\n",
    "published_pipeline = PublishedPipeline.get(ws, id=\"e300597d-23d0-4cac-8426-b73b62c576d8\")\n",
    "published_pipeline.endpoint"
   ]
  },
  {
   "cell_type": "code",
   "execution_count": null,
   "metadata": {},
   "outputs": [],
   "source": [
    "from azure.ai.ml import MLClient, command, Input\n",
    "from azure.ai.ml.constants import AssetTypes, InputOutputModes\n",
    "from azure.identity import DefaultAzureCredential\n",
    "\n",
    "ml_client = MLClient.from_config(credential=DefaultAzureCredential())\n",
    "\n",
    "data_asset = ml_client.data.get(\"iris\", version=\"1\")\n",
    "\n",
    "# to successfully create a job, customize the parameters below based on your workspace resources\n",
    "job = command(\n",
    "        command='ls \"${{inputs.data}}\"',\n",
    "        inputs={\n",
    "            \"data\": Input(path=data_asset.id,\n",
    "                type=AssetTypes.URI_FOLDER,\n",
    "                mode=InputOutputModes.RO_MOUNT\n",
    "            )\n",
    "        },\n",
    "        environment=\"azureml:AzureML-sklearn-1.0-ubuntu20.04-py38-cpu@latest\"\n",
    "      )\n",
    "returned_job = ml_client.jobs.create_or_update(job)"
   ]
  }
 ],
 "metadata": {
  "kernelspec": {
   "display_name": ".venv",
   "language": "python",
   "name": "python3"
  },
  "language_info": {
   "codemirror_mode": {
    "name": "ipython",
    "version": 3
   },
   "file_extension": ".py",
   "mimetype": "text/x-python",
   "name": "python",
   "nbconvert_exporter": "python",
   "pygments_lexer": "ipython3",
   "version": "3.9.7"
  }
 },
 "nbformat": 4,
 "nbformat_minor": 2
}
