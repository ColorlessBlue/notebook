{
 "cells": [
  {
   "cell_type": "markdown",
   "metadata": {},
   "source": [
    "# Build a simple ML pipeline for image classification\n",
    "\n",
    "**Requirements** - In order to benefit from this tutorial, you will need:\n",
    "- A basic understanding of Machine Learning\n",
    "- An Azure account with an active subscription - [Create an account for free](https://azure.microsoft.com/free/?WT.mc_id=A261C142F)\n",
    "- An Azure ML workspace with computer cluster - [Configure workspace](../../configuration.ipynb)\n",
    "- A python environment\n",
    "- Installed Azure Machine Learning Python SDK v2 - [install instructions](../../../README.md) - check the getting started section\n",
    "\n",
    "**Learning Objectives** - By the end of this tutorial, you should be able to:\n",
    "- Connect to your AML workspace from the Python SDK\n",
    "- Create `Pipeline` with components\n",
    "\n",
    "**Motivations** -This tutorial shows how to train a simple deep neural network using the [Fashion MNIST dataset and Keras on Azure Machine Learning. Fashion-MNIST is a dataset of Zalando's article images-consisting of a training set of 60,000 examples and a test set of 10,000 examples. Each example is a 28x28 grayscale image, associated with a label from 10 classes.\n"
   ]
  },
  {
   "cell_type": "markdown",
   "metadata": {},
   "source": [
    "# 1. Connect to Azure Machine Learning Workspace\n",
    "\n",
    "The [workspace](https://docs.microsoft.com/en-us/azure/machine-learning/concept-workspace) is the top-level resource for Azure Machine Learning, providing a centralized place to work with all the artifacts you create when you use Azure Machine Learning. In this section we will connect to the workspace in which the job will be run.\n",
    "\n",
    "## 1.1 Import the required libraries"
   ]
  },
  {
   "cell_type": "code",
   "execution_count": 1,
   "metadata": {
    "name": "required-library"
   },
   "outputs": [],
   "source": [
    "# import required libraries\n",
    "from azure.identity import DefaultAzureCredential, InteractiveBrowserCredential\n",
    "\n",
    "from azure.ai.ml import MLClient\n",
    "from azure.ai.ml.dsl import pipeline\n",
    "from azure.ai.ml import load_component"
   ]
  },
  {
   "cell_type": "markdown",
   "metadata": {},
   "source": [
    "## 1.2 Configure credential\n",
    "We are using `DefaultAzureCredential` to get access to workspace.\n",
    "\n",
    "`DefaultAzureCredential` should be capable of handling most Azure SDK authentication scenarios. \n",
    "\n",
    "Reference for more available credentials if it does not work for you: [configure credential example](../../configuration.ipynb), [azure-identity reference doc](https://docs.microsoft.com/en-us/python/api/azure-identity/azure.identity?view=azure-python)."
   ]
  },
  {
   "cell_type": "code",
   "execution_count": 2,
   "metadata": {
    "name": "credential"
   },
   "outputs": [],
   "source": [
    "try:\n",
    "    credential = DefaultAzureCredential()\n",
    "    # Check if given credential can get token successfully.\n",
    "    credential.get_token(\"https://management.azure.com/.default\")\n",
    "except Exception as ex:\n",
    "    # Fall back to InteractiveBrowserCredential in case DefaultAzureCredential not work\n",
    "    credential = InteractiveBrowserCredential()"
   ]
  },
  {
   "cell_type": "markdown",
   "metadata": {},
   "source": [
    "## 1.3 Get a handle to the workspace\n",
    "\n",
    "We use config file to connect to a workspace. The Azure ML workspace should be configured with computer cluster. [Check this notebook for configure a workspace](../../configuration.ipynb)"
   ]
  },
  {
   "cell_type": "code",
   "execution_count": 4,
   "metadata": {
    "name": "workspace"
   },
   "outputs": [
    {
     "name": "stderr",
     "output_type": "stream",
     "text": [
      "Found the config file in: /Users/dgmr2/notebook/azure/azureml/config.json\n"
     ]
    },
    {
     "name": "stdout",
     "output_type": "stream",
     "text": [
      "enable_node_public_ip: true\n",
      "id: /subscriptions/f4550262-c232-4d1f-8f2f-70bcd32ebfe1/resourceGroups/rg-azureml/providers/Microsoft.MachineLearningServices/workspaces/ws-azureml/computes/test-computing-cluster\n",
      "idle_time_before_scale_down: 30\n",
      "location: westus\n",
      "max_instances: 1\n",
      "min_instances: 0\n",
      "name: test-computing-cluster\n",
      "provisioning_state: Succeeded\n",
      "size: Standard_DS11_v2\n",
      "ssh_public_access_enabled: false\n",
      "tier: dedicated\n",
      "type: amlcompute\n",
      "\n"
     ]
    }
   ],
   "source": [
    "# Get a handle to workspace\n",
    "ml_client = MLClient.from_config(credential=credential)\n",
    "\n",
    "# Retrieve an already attached Azure Machine Learning Compute.\n",
    "cpu_compute_target = \"test-computing-cluster\"\n",
    "print(ml_client.compute.get(cpu_compute_target))\n",
    "# gpu_compute_target = \"gpu-cluster\"\n",
    "# print(ml_client.compute.get(gpu_compute_target))"
   ]
  },
  {
   "cell_type": "markdown",
   "metadata": {},
   "source": [
    "## 1.4 Prepare Job Input\n",
    "By defining `Input`, you create a reference to the data source location. We will use local locations in this example.\n",
    "\n",
    "In this sample, we used [`mnist`](https://learn.microsoft.com/en-us/azure/open-datasets/dataset-mnist?tabs=azure-storage) as the target task. You can also try [`fashion-mnist`](https://github.com/zalandoresearch/fashion-mnist?tab=readme-ov-file#get-the-data), which has the same structure as `mnist` but of a harder task.\n",
    "\n",
    "Note that, **you may meet failure in the below block if you're in a private network and have no access to the public blob**. If so, you can try downloading from [official site of `fashion-mnist`](https://github.com/zalandoresearch/fashion-mnist?tab=readme-ov-file#get-the-data) or another machine, and unzip the downloaded file to [mnist](./mnist/)."
   ]
  },
  {
   "cell_type": "code",
   "execution_count": 5,
   "metadata": {
    "name": "define-input"
   },
   "outputs": [],
   "source": [
    "import urllib3\n",
    "import shutil\n",
    "import gzip\n",
    "import os\n",
    "from pathlib import Path\n",
    "from azure.ai.ml import Input\n",
    "\n",
    "base_url = \"https://azureopendatastorage.blob.core.windows.net/mnist/\"\n",
    "base_dir = Path(\"mnist\")\n",
    "if not base_dir.exists():\n",
    "    base_dir.mkdir(parents=True)\n",
    "\n",
    "c = urllib3.PoolManager()\n",
    "for target_file in [\n",
    "    \"train-images-idx3-ubyte.gz\",\n",
    "    \"train-labels-idx1-ubyte.gz\",\n",
    "    \"t10k-images-idx3-ubyte.gz\",\n",
    "    \"t10k-labels-idx1-ubyte.gz\",\n",
    "]:\n",
    "    if (base_dir / target_file[:-3]).exists():\n",
    "        continue\n",
    "    with c.request(\"GET\", base_url + target_file, preload_content=False) as resp, open(\n",
    "        base_dir / target_file, \"wb\"\n",
    "    ) as out_file:\n",
    "        shutil.copyfileobj(resp, out_file)\n",
    "        resp.release_conn()\n",
    "    with gzip.open(base_dir / target_file, \"rb\") as f_in, open(\n",
    "        base_dir / target_file[:-3], \"wb\"\n",
    "    ) as f_out:\n",
    "        shutil.copyfileobj(f_in, f_out)\n",
    "    os.unlink(base_dir / target_file)\n",
    "\n",
    "mnist_ds = Input(path=base_dir.as_posix())"
   ]
  },
  {
   "cell_type": "code",
   "execution_count": 6,
   "metadata": {},
   "outputs": [
    {
     "data": {
      "text/plain": [
       "{'type': 'uri_folder', 'path': 'mnist'}"
      ]
     },
     "execution_count": 6,
     "metadata": {},
     "output_type": "execute_result"
    }
   ],
   "source": [
    "mnist_ds"
   ]
  },
  {
   "cell_type": "markdown",
   "metadata": {},
   "source": [
    "# 2. Define and load command component\n",
    "In this section, we will define and load component to build pipeline in two ways:\n",
    "1. Using python function\n",
    "1. Using yaml\n"
   ]
  },
  {
   "cell_type": "markdown",
   "metadata": {},
   "source": [
    "## 2.1 Load components defined with python function\n",
    "We define `Prep Data` component and `Train Image Classification Keras` component using @command_component respectively in [./prep/prep_component.py](./prep/prep_component.py) and [./train/train_component.py](./train/train_component.py).\n",
    "\n",
    "Use following code to import component."
   ]
  },
  {
   "cell_type": "code",
   "execution_count": 10,
   "metadata": {
    "name": "load-from-dsl-component"
   },
   "outputs": [
    {
     "name": "stdout",
     "output_type": "stream",
     "text": [
      "The autoreload extension is already loaded. To reload it, use:\n",
      "  %reload_ext autoreload\n",
      "Help on function prepare_data_component in module prep.prep_component:\n",
      "\n",
      "prepare_data_component(input_data: <mldesigner._input_output.Input object at 0x138a5c700>, training_data: <mldesigner._input_output.Output object at 0x138a5c190>, test_data: <mldesigner._input_output.Output object at 0x138baa880>)\n",
      "\n",
      "Help on function keras_train_component in module train.train_component:\n",
      "\n",
      "keras_train_component(input_data: <mldesigner._input_output.Input object at 0x138baa580>, output_model: <mldesigner._input_output.Output object at 0x138728c40>, epochs=10)\n",
      "\n"
     ]
    }
   ],
   "source": [
    "%load_ext autoreload\n",
    "%autoreload 2\n",
    "\n",
    "# load component function from component python file\n",
    "from prep.prep_component import prepare_data_component\n",
    "from train.train_component import keras_train_component\n",
    "\n",
    "# print hint of components\n",
    "help(prepare_data_component)\n",
    "help(keras_train_component)"
   ]
  },
  {
   "cell_type": "markdown",
   "metadata": {},
   "source": [
    "(Optional) Python import will have cache if the code does not change. However, if you change the conda.yaml file, you will need to force re-import."
   ]
  },
  {
   "cell_type": "code",
   "execution_count": null,
   "metadata": {},
   "outputs": [],
   "source": [
    "# import importlib, prep.prep_component, train.train_component\n",
    "# importlib.reload(prep.prep_component)\n",
    "# importlib.reload(train.train_component)\n",
    "# from prep.prep_component import prepare_data_component\n",
    "# from train.train_component import keras_train_component"
   ]
  },
  {
   "cell_type": "markdown",
   "metadata": {},
   "source": [
    "## 2.2 Load component defined with yaml\n",
    "We define `Score Image Classification Keras` in [yaml](./score/score.yaml).\n",
    "\n",
    "Use following code to load component from yaml."
   ]
  },
  {
   "cell_type": "code",
   "execution_count": 11,
   "metadata": {
    "name": "load-from-yaml"
   },
   "outputs": [],
   "source": [
    "# load component function from yaml\n",
    "keras_score_component = load_component(source=\"./score/score.yaml\")"
   ]
  },
  {
   "cell_type": "markdown",
   "metadata": {},
   "source": [
    "# 3. Build pipeline\n",
    "\n",
    "We define a pipeline containing 3 nodes:\n",
    "- `prepare_data_node` will load the image and labels from Fashion MNIST dataset into mnist_train.csv and mnist_test.csv. \n",
    "- `train_node` will train a CNN model with Keras using training data.\n",
    "- `score_node` will score the model using test data."
   ]
  },
  {
   "cell_type": "code",
   "execution_count": 12,
   "metadata": {
    "name": "build-pipeline"
   },
   "outputs": [],
   "source": [
    "# define a pipeline containing 3 nodes: Prepare data node, train node, and score node\n",
    "@pipeline(\n",
    "    default_compute=cpu_compute_target,\n",
    ")\n",
    "def image_classification_keras_minist_convnet(pipeline_input_data):\n",
    "    \"\"\"E2E image classification pipeline with keras using python sdk.\"\"\"\n",
    "    prepare_data_node = prepare_data_component(input_data=pipeline_input_data)\n",
    "\n",
    "    train_node = keras_train_component(\n",
    "        input_data=prepare_data_node.outputs.training_data\n",
    "    )\n",
    "    # train_node.compute = gpu_compute_target\n",
    "\n",
    "    score_node = keras_score_component(\n",
    "        input_data=prepare_data_node.outputs.test_data,\n",
    "        input_model=train_node.outputs.output_model,\n",
    "    )\n",
    "\n",
    "\n",
    "# create a pipeline\n",
    "pipeline_job = image_classification_keras_minist_convnet(pipeline_input_data=mnist_ds)"
   ]
  },
  {
   "cell_type": "code",
   "execution_count": 13,
   "metadata": {},
   "outputs": [
    {
     "name": "stderr",
     "output_type": "stream",
     "text": [
      "Class AutoDeleteSettingSchema: This is an experimental class, and may change at any time. Please see https://aka.ms/azuremlexperimental for more information.\n",
      "Class AutoDeleteConditionSchema: This is an experimental class, and may change at any time. Please see https://aka.ms/azuremlexperimental for more information.\n",
      "Class BaseAutoDeleteSettingSchema: This is an experimental class, and may change at any time. Please see https://aka.ms/azuremlexperimental for more information.\n",
      "Class IntellectualPropertySchema: This is an experimental class, and may change at any time. Please see https://aka.ms/azuremlexperimental for more information.\n",
      "Class ProtectionLevelSchema: This is an experimental class, and may change at any time. Please see https://aka.ms/azuremlexperimental for more information.\n",
      "Class BaseIntellectualPropertySchema: This is an experimental class, and may change at any time. Please see https://aka.ms/azuremlexperimental for more information.\n"
     ]
    },
    {
     "name": "stdout",
     "output_type": "stream",
     "text": [
      "display_name: image_classification_keras_minist_convnet\n",
      "description: E2E image classification pipeline with keras using python sdk.\n",
      "type: pipeline\n",
      "inputs:\n",
      "  pipeline_input_data:\n",
      "    type: uri_folder\n",
      "    path: azureml:mnist\n",
      "jobs:\n",
      "  prepare_data_node:\n",
      "    type: command\n",
      "    inputs:\n",
      "      input_data:\n",
      "        path: ${{parent.inputs.pipeline_input_data}}\n",
      "    component:\n",
      "      name: prep_data\n",
      "      version: '1'\n",
      "      display_name: Prep Data\n",
      "      description: Convert data to CSV file, and split to training and test data\n",
      "      tags:\n",
      "        codegenBy: mldesigner\n",
      "      type: command\n",
      "      inputs:\n",
      "        input_data:\n",
      "          type: uri_folder\n",
      "      outputs:\n",
      "        training_data:\n",
      "          type: uri_folder\n",
      "        test_data:\n",
      "          type: uri_folder\n",
      "      command: mldesigner execute --source prep_component.py --name prep_data --inputs\n",
      "        input_data='${{inputs.input_data}}' --outputs training_data='${{outputs.training_data}}'\n",
      "        test_data='${{outputs.test_data}}'\n",
      "      environment:\n",
      "        name: CliV2AnonymousEnvironment\n",
      "        version: 4d6d157677edd54900727f4a8cc5c859\n",
      "        image: mcr.microsoft.com/azureml/openmpi4.1.0-ubuntu20.04\n",
      "        conda_file:\n",
      "          name: imagekeras_prep_conda_env\n",
      "          channels:\n",
      "          - defaults\n",
      "          dependencies:\n",
      "          - python=3.8\n",
      "          - pip=20.0\n",
      "          - pip:\n",
      "            - mldesigner==0.1.0b12\n",
      "      code: /Users/dgmr2/notebook/azure/azureml/pipeline/prep\n",
      "      is_deterministic: true\n",
      "  train_node:\n",
      "    type: command\n",
      "    inputs:\n",
      "      input_data:\n",
      "        path: ${{parent.jobs.prepare_data_node.outputs.training_data}}\n",
      "    component:\n",
      "      name: train_image_classification_keras\n",
      "      version: '1'\n",
      "      display_name: Train Image Classification Keras\n",
      "      description: train image classification with keras\n",
      "      tags:\n",
      "        codegenBy: mldesigner\n",
      "      type: command\n",
      "      inputs:\n",
      "        input_data:\n",
      "          type: uri_folder\n",
      "        epochs:\n",
      "          type: integer\n",
      "          default: '10'\n",
      "      outputs:\n",
      "        output_model:\n",
      "          type: uri_folder\n",
      "      command: mldesigner execute --source train_component.py --name train_image_classification_keras\n",
      "        --inputs input_data='${{inputs.input_data}}' epochs='${{inputs.epochs}}' --outputs\n",
      "        output_model='${{outputs.output_model}}'\n",
      "      environment:\n",
      "        name: CliV2AnonymousEnvironment\n",
      "        version: 59f68305199e89051f40ae1b4c51541e\n",
      "        image: mcr.microsoft.com/azureml/openmpi4.1.0-ubuntu20.04\n",
      "        conda_file:\n",
      "          name: imagekeras_train_conda_env\n",
      "          channels:\n",
      "          - defaults\n",
      "          dependencies:\n",
      "          - python=3.8\n",
      "          - pip=20.2\n",
      "          - pip:\n",
      "            - mldesigner==0.1.0b12\n",
      "            - azureml-mlflow==1.50.0\n",
      "            - tensorflow==2.7.0\n",
      "            - numpy==1.21.4\n",
      "            - scikit-learn==1.0.1\n",
      "            - pandas==1.3.4\n",
      "            - matplotlib==3.2.2\n",
      "            - protobuf==3.20.0\n",
      "      code: /Users/dgmr2/notebook/azure/azureml/pipeline/train\n",
      "      is_deterministic: true\n",
      "  score_node:\n",
      "    type: command\n",
      "    inputs:\n",
      "      input_data:\n",
      "        path: ${{parent.jobs.prepare_data_node.outputs.test_data}}\n",
      "      input_model:\n",
      "        path: ${{parent.jobs.train_node.outputs.output_model}}\n",
      "    component:\n",
      "      $schema: https://azuremlschemas.azureedge.net/latest/commandComponent.schema.json\n",
      "      name: score_image_classification_keras\n",
      "      display_name: Score Image Classification Keras\n",
      "      type: command\n",
      "      inputs:\n",
      "        input_data:\n",
      "          type: uri_folder\n",
      "        input_model:\n",
      "          type: uri_folder\n",
      "      outputs:\n",
      "        output_result:\n",
      "          type: uri_folder\n",
      "      command: python score.py --input_data ${{inputs.input_data}} --input_model ${{inputs.input_model}}\n",
      "        --output_result ${{outputs.output_result}}\n",
      "      environment:\n",
      "        name: CliV2AnonymousEnvironment\n",
      "        version: d19c935f00f8a54425203f1761dcf435\n",
      "        image: mcr.microsoft.com/azureml/openmpi4.1.0-ubuntu20.04\n",
      "        conda_file:\n",
      "          name: imagekeras_train_conda_env\n",
      "          channels:\n",
      "          - defaults\n",
      "          dependencies:\n",
      "          - python=3.8\n",
      "          - pip=20.0\n",
      "          - pip:\n",
      "            - azureml-mlflow==1.50.0\n",
      "            - tensorflow==2.7.0\n",
      "            - numpy==1.21.4\n",
      "            - scikit-learn==1.0.1\n",
      "            - pandas==1.3.4\n",
      "            - matplotlib==3.2.2\n",
      "            - protobuf==3.20.0\n",
      "      code: /Users/dgmr2/notebook/azure/azureml/pipeline/score\n",
      "      is_deterministic: true\n",
      "settings:\n",
      "  default_compute: azureml:test-computing-cluster\n",
      "\n"
     ]
    }
   ],
   "source": [
    "print(pipeline_job)"
   ]
  },
  {
   "cell_type": "markdown",
   "metadata": {},
   "source": [
    "# 4. Submit pipeline job"
   ]
  },
  {
   "cell_type": "code",
   "execution_count": 14,
   "metadata": {
    "name": "submit-pipeline"
   },
   "outputs": [
    {
     "name": "stderr",
     "output_type": "stream",
     "text": [
      "\u001b[32mUploading prep (0.0 MBs): 100%|██████████| 1692/1692 [00:00<00:00, 3986.25it/s]\n",
      "\u001b[39m\n",
      "\n",
      "\u001b[32mUploading train (0.0 MBs): 100%|██████████| 4446/4446 [00:00<00:00, 9059.53it/s]\n",
      "\u001b[39m\n",
      "\n",
      "\u001b[32mUploading score (0.0 MBs): 100%|██████████| 3368/3368 [00:00<00:00, 6743.00it/s]\n",
      "\u001b[39m\n",
      "\n",
      "\u001b[32mUploading mnist (54.95 MBs): 100%|██████████| 54950048/54950048 [00:15<00:00, 3555376.10it/s]\n",
      "\u001b[39m\n",
      "\n"
     ]
    },
    {
     "data": {
      "text/html": [
       "<table style=\"width:100%\"><tr><th>Experiment</th><th>Name</th><th>Type</th><th>Status</th><th>Details Page</th></tr><tr><td>pipeline_samples</td><td>epic_oxygen_dfxg35xncz</td><td>pipeline</td><td>NotStarted</td><td><a href=\"https://ml.azure.com/runs/epic_oxygen_dfxg35xncz?wsid=/subscriptions/f4550262-c232-4d1f-8f2f-70bcd32ebfe1/resourcegroups/rg-azureml/workspaces/ws-azureml&amp;tid=7072a3bc-6661-41fc-9e56-a2f0704ddca3\" target=\"_blank\" rel=\"noopener\">Link to Azure Machine Learning studio</a></td></tr></table>"
      ],
      "text/plain": [
       "PipelineJob({'inputs': {'pipeline_input_data': <azure.ai.ml.entities._job.pipeline._io.base.PipelineInput object at 0x139399df0>}, 'outputs': {}, 'jobs': {}, 'component': PipelineComponent({'latest_version': None, 'intellectual_property': None, 'auto_increment_version': False, 'source': 'REMOTE.WORKSPACE.JOB', 'is_anonymous': True, 'auto_delete_setting': None, 'name': 'azureml_anonymous', 'description': 'E2E image classification pipeline with keras using python sdk.', 'tags': {}, 'properties': {}, 'print_as_yaml': False, 'id': None, 'Resource__source_path': None, 'base_path': '/Users/dgmr2/notebook/azure/azureml/pipeline', 'creation_context': None, 'serialize': <msrest.serialization.Serializer object at 0x139399700>, 'version': '1', 'schema': None, 'type': 'pipeline', 'display_name': 'image_classification_keras_minist_convnet', 'is_deterministic': None, 'inputs': {'pipeline_input_data': {}}, 'outputs': {}, 'yaml_str': None, 'other_parameter': {}, 'jobs': {'prepare_data_node': Command({'parameters': {}, 'init': False, 'name': 'prepare_data_node', 'type': 'command', 'status': None, 'log_files': None, 'description': None, 'tags': {}, 'properties': {}, 'print_as_yaml': False, 'id': None, 'Resource__source_path': '', 'base_path': '/Users/dgmr2/notebook/azure/azureml/pipeline', 'creation_context': None, 'serialize': <msrest.serialization.Serializer object at 0x1393994c0>, 'allowed_keys': {}, 'key_restriction': False, 'logger': <TraceLogger attr_dict (WARNING)>, 'display_name': None, 'experiment_name': None, 'compute': None, 'services': None, 'comment': None, 'job_inputs': {'input_data': '${{parent.inputs.pipeline_input_data}}'}, 'job_outputs': {}, 'inputs': {'input_data': <azure.ai.ml.entities._job.pipeline._io.base.NodeInput object at 0x139399a60>}, 'outputs': {}, 'component': 'azureml_anonymous:141eeca6-781a-47c8-a01d-870aa509042a', 'referenced_control_flow_node_instance_id': None, 'kwargs': {'services': None}, 'instance_id': '74ae1756-9fe1-46d6-ad9a-f0971c2a4af1', 'source': 'MLDESIGNER', 'validate_required_input_not_provided': True, 'limits': None, 'identity': None, 'distribution': None, 'environment_variables': {}, 'environment': None, 'resources': None, 'queue_settings': None, 'swept': False}), 'train_node': Command({'parameters': {}, 'init': False, 'name': 'train_node', 'type': 'command', 'status': None, 'log_files': None, 'description': None, 'tags': {}, 'properties': {}, 'print_as_yaml': False, 'id': None, 'Resource__source_path': '', 'base_path': '/Users/dgmr2/notebook/azure/azureml/pipeline', 'creation_context': None, 'serialize': <msrest.serialization.Serializer object at 0x139399250>, 'allowed_keys': {}, 'key_restriction': False, 'logger': <TraceLogger attr_dict (WARNING)>, 'display_name': None, 'experiment_name': None, 'compute': None, 'services': None, 'comment': None, 'job_inputs': {'input_data': '${{parent.jobs.prepare_data_node.outputs.training_data}}'}, 'job_outputs': {}, 'inputs': {'input_data': <azure.ai.ml.entities._job.pipeline._io.base.NodeInput object at 0x139399fa0>}, 'outputs': {}, 'component': 'azureml_anonymous:cb5d818f-315d-4f97-841c-d2ffada6abf2', 'referenced_control_flow_node_instance_id': None, 'kwargs': {'services': None}, 'instance_id': '66fd7676-c408-4c79-afe6-7eac23062064', 'source': 'MLDESIGNER', 'validate_required_input_not_provided': True, 'limits': None, 'identity': None, 'distribution': None, 'environment_variables': {}, 'environment': None, 'resources': None, 'queue_settings': None, 'swept': False}), 'score_node': Command({'parameters': {}, 'init': False, 'name': 'score_node', 'type': 'command', 'status': None, 'log_files': None, 'description': None, 'tags': {}, 'properties': {}, 'print_as_yaml': False, 'id': None, 'Resource__source_path': '', 'base_path': '/Users/dgmr2/notebook/azure/azureml/pipeline', 'creation_context': None, 'serialize': <msrest.serialization.Serializer object at 0x139399fd0>, 'allowed_keys': {}, 'key_restriction': False, 'logger': <TraceLogger attr_dict (WARNING)>, 'display_name': None, 'experiment_name': None, 'compute': None, 'services': None, 'comment': None, 'job_inputs': {'input_data': '${{parent.jobs.prepare_data_node.outputs.test_data}}', 'input_model': '${{parent.jobs.train_node.outputs.output_model}}'}, 'job_outputs': {}, 'inputs': {'input_data': <azure.ai.ml.entities._job.pipeline._io.base.NodeInput object at 0x139399f70>, 'input_model': <azure.ai.ml.entities._job.pipeline._io.base.NodeInput object at 0x1393993d0>}, 'outputs': {}, 'component': 'azureml_anonymous:5cab31a8-6eab-4da1-8efd-730bc24e69cd', 'referenced_control_flow_node_instance_id': None, 'kwargs': {'services': None}, 'instance_id': '1178b44f-615f-4e17-8f59-779d5c4f8f56', 'source': 'YAML.COMPONENT', 'validate_required_input_not_provided': True, 'limits': None, 'identity': None, 'distribution': None, 'environment_variables': {}, 'environment': None, 'resources': None, 'queue_settings': None, 'swept': False})}, 'job_types': {'command': 3}, 'job_sources': {'MLDESIGNER': 2, 'YAML.COMPONENT': 1}, 'source_job_id': None}), 'type': 'pipeline', 'status': 'NotStarted', 'log_files': None, 'name': 'epic_oxygen_dfxg35xncz', 'description': 'E2E image classification pipeline with keras using python sdk.', 'tags': {}, 'properties': {'mlflow.source.git.repoURL': 'https://github.com/ColorlessBlue/notebook.git', 'mlflow.source.git.branch': 'main', 'mlflow.source.git.commit': 'a750e726bed23b8e7cf5a7c3bb8b87a740a544d9', 'azureml.git.dirty': 'True'}, 'print_as_yaml': False, 'id': '/subscriptions/f4550262-c232-4d1f-8f2f-70bcd32ebfe1/resourceGroups/rg-azureml/providers/Microsoft.MachineLearningServices/workspaces/ws-azureml/jobs/epic_oxygen_dfxg35xncz', 'Resource__source_path': '', 'base_path': '/Users/dgmr2/notebook/azure/azureml/pipeline', 'creation_context': <azure.ai.ml.entities._system_data.SystemData object at 0x139399cd0>, 'serialize': <msrest.serialization.Serializer object at 0x139399a30>, 'display_name': 'image_classification_keras_minist_convnet', 'experiment_name': 'pipeline_samples', 'compute': None, 'services': {'Tracking': {'endpoint': 'azureml://westus.api.azureml.ms/mlflow/v1.0/subscriptions/f4550262-c232-4d1f-8f2f-70bcd32ebfe1/resourceGroups/rg-azureml/providers/Microsoft.MachineLearningServices/workspaces/ws-azureml?', 'type': 'Tracking'}, 'Studio': {'endpoint': 'https://ml.azure.com/runs/epic_oxygen_dfxg35xncz?wsid=/subscriptions/f4550262-c232-4d1f-8f2f-70bcd32ebfe1/resourcegroups/rg-azureml/workspaces/ws-azureml&tid=7072a3bc-6661-41fc-9e56-a2f0704ddca3', 'type': 'Studio'}}, 'settings': {}, 'identity': None, 'default_code': None, 'default_environment': None})"
      ]
     },
     "execution_count": 14,
     "metadata": {},
     "output_type": "execute_result"
    }
   ],
   "source": [
    "pipeline_job = ml_client.jobs.create_or_update(\n",
    "    pipeline_job, experiment_name=\"pipeline_samples\"\n",
    ")\n",
    "pipeline_job"
   ]
  },
  {
   "cell_type": "code",
   "execution_count": 15,
   "metadata": {
    "name": "stream-pipeline"
   },
   "outputs": [
    {
     "name": "stdout",
     "output_type": "stream",
     "text": [
      "RunId: epic_oxygen_dfxg35xncz\n",
      "Web View: https://ml.azure.com/runs/epic_oxygen_dfxg35xncz?wsid=/subscriptions/f4550262-c232-4d1f-8f2f-70bcd32ebfe1/resourcegroups/rg-azureml/workspaces/ws-azureml\n",
      "\n",
      "Streaming logs/azureml/executionlogs.txt\n",
      "========================================\n",
      "\n",
      "[2025-01-29 14:20:49Z] Submitting 1 runs, first five are: ff7ecd4b:46ce7c0b-07e4-4e79-8636-6df923654375\n",
      "[2025-01-29 14:37:59Z] Completing processing run id 46ce7c0b-07e4-4e79-8636-6df923654375.\n",
      "[2025-01-29 14:38:00Z] Submitting 1 runs, first five are: 1dad1d0e:ecdc6f91-2adf-4840-aca4-293e52941df3\n",
      "[2025-01-29 14:45:05Z] Completing processing run id ecdc6f91-2adf-4840-aca4-293e52941df3.\n",
      "[2025-01-29 14:45:06Z] Submitting 1 runs, first five are: 48e19523:22920551-1414-4f22-acd5-969e5c1db33b\n",
      "[2025-01-29 14:46:38Z] Completing processing run id 22920551-1414-4f22-acd5-969e5c1db33b.\n",
      "\n",
      "Execution Summary\n",
      "=================\n",
      "RunId: epic_oxygen_dfxg35xncz\n",
      "Web View: https://ml.azure.com/runs/epic_oxygen_dfxg35xncz?wsid=/subscriptions/f4550262-c232-4d1f-8f2f-70bcd32ebfe1/resourcegroups/rg-azureml/workspaces/ws-azureml\n",
      "\n"
     ]
    }
   ],
   "source": [
    "# wait until the job completes\n",
    "ml_client.jobs.stream(pipeline_job.name)"
   ]
  },
  {
   "cell_type": "markdown",
   "metadata": {},
   "source": [
    "# 5. (Optional) Register your component to workspace\n",
    "\n",
    "If you want to share and reuse your component within workspace, you can also register it to a machine learning workspace.\n",
    "\n",
    "The following sample code shows how to register a component to your workspace and get a registered component from your workspace."
   ]
  },
  {
   "cell_type": "code",
   "execution_count": 18,
   "metadata": {
    "name": "register-component"
   },
   "outputs": [
    {
     "name": "stdout",
     "output_type": "stream",
     "text": [
      "creation_context:\n",
      "  created_at: '2025-01-29T15:50:31.025631+00:00'\n",
      "  created_by: S T\n",
      "  created_by_type: User\n",
      "  last_modified_at: '2025-01-29T15:50:31.025631+00:00'\n",
      "  last_modified_by: S T\n",
      "  last_modified_by_type: User\n",
      "description: ''\n",
      "id: azureml:/subscriptions/f4550262-c232-4d1f-8f2f-70bcd32ebfe1/resourceGroups/rg-azureml/providers/Microsoft.MachineLearningServices/workspaces/ws-azureml/components/prep_data\n",
      "name: prep_data\n",
      "\n"
     ]
    }
   ],
   "source": [
    "try:\n",
    "    # try get back the component\n",
    "    prep = ml_client.components.get(name=\"prep_data\", version=\"1\")\n",
    "except:\n",
    "    # if not exists, register component using following code\n",
    "    prep = ml_client.components.create_or_update(prepare_data_component)\n",
    "\n",
    "# list all components registered in workspace\n",
    "for c in ml_client.components.list():\n",
    "    print(c)"
   ]
  },
  {
   "cell_type": "markdown",
   "metadata": {},
   "source": [
    "# Next Steps\n",
    "You can see further examples of running a pipeline job [here](../)"
   ]
  },
  {
   "cell_type": "code",
   "execution_count": 17,
   "metadata": {},
   "outputs": [
    {
     "data": {
      "text/plain": [
       "'epic_oxygen_dfxg35xncz'"
      ]
     },
     "execution_count": 17,
     "metadata": {},
     "output_type": "execute_result"
    }
   ],
   "source": [
    "pipeline_job.name"
   ]
  },
  {
   "cell_type": "code",
   "execution_count": null,
   "metadata": {},
   "outputs": [],
   "source": []
  }
 ],
 "metadata": {
  "description": {
   "description": "Create pipeline to train cnn image classification model with keras"
  },
  "kernelspec": {
   "display_name": ".venv",
   "language": "python",
   "name": "python3"
  },
  "language_info": {
   "codemirror_mode": {
    "name": "ipython",
    "version": 3
   },
   "file_extension": ".py",
   "mimetype": "text/x-python",
   "name": "python",
   "nbconvert_exporter": "python",
   "pygments_lexer": "ipython3",
   "version": "3.9.7"
  }
 },
 "nbformat": 4,
 "nbformat_minor": 2
}
